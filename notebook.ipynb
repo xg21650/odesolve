{
  "metadata": {
    "language_info": {
      "codemirror_mode": {
        "name": "python",
        "version": 3
      },
      "file_extension": ".py",
      "mimetype": "text/x-python",
      "name": "python",
      "nbconvert_exporter": "python",
      "pygments_lexer": "ipython3",
      "version": "3.8"
    },
    "kernelspec": {
      "name": "python",
      "display_name": "Python (Pyodide)",
      "language": "python"
    }
  },
  "nbformat_minor": 4,
  "nbformat": 4,
  "cells": [
    {
      "cell_type": "markdown",
      "source": "This is a notebook that shows how to import and use the functions that are defined in odesolve.py",
      "metadata": {}
    },
    {
      "cell_type": "markdown",
      "source": "Firstly you must create a new python project in the folder odesolve. This will be used to define your differential equation as well as call functions from odesolve.py. Then you must import all of the functions from odesolve.py into your new python project. You should also import numpy as it will be useful later on.",
      "metadata": {}
    },
    {
      "cell_type": "code",
      "source": "from odesolve import euler, rk4, solveto, odesolve\nimport numpy as np",
      "metadata": {
        "trusted": true
      },
      "execution_count": null,
      "outputs": []
    },
    {
      "cell_type": "markdown",
      "source": "Then you must define your differential equation. For example: if you wanted to solve x' = x you would write",
      "metadata": {}
    },
    {
      "cell_type": "code",
      "source": "def f(x, t):\n    return x ",
      "metadata": {
        "trusted": true
      },
      "execution_count": null,
      "outputs": []
    },
    {
      "cell_type": "markdown",
      "source": "And if you wanted to solve x' = x + t you would instead write ",
      "metadata": {}
    },
    {
      "cell_type": "code",
      "source": "def f(x, t):\n    return x + t",
      "metadata": {},
      "execution_count": null,
      "outputs": []
    },
    {
      "cell_type": "markdown",
      "source": "Euler function.\n\nThe euler function has 4 variables f, x, t, h. \n* x = initial x\n* t = initial t\n* h = step size \n\nIf you wanted to do an euler step with conditions x = 1, t = 1, h = 0.5 you would write the following code",
      "metadata": {}
    },
    {
      "cell_type": "code",
      "source": "print(euler(f, 1, 1, 0.5))",
      "metadata": {
        "trusted": true
      },
      "execution_count": null,
      "outputs": []
    },
    {
      "cell_type": "markdown",
      "source": "rk4 function.\n\nThe rk4 function, similar to the euler function, has 4 variables f, x, t, h.\n\nIf you wanted to do an rk4 step with the same conditions as above you would write the following ",
      "metadata": {}
    },
    {
      "cell_type": "code",
      "source": "print(rk4(f, 1, 1, 0.5))",
      "metadata": {},
      "execution_count": null,
      "outputs": []
    },
    {
      "cell_type": "markdown",
      "source": "Solveto function.\n\nThis function has 6 variables f, x0, t0, t1, hmax, method\n\n* x0 = initial x\n* t0 = initial t\n* t1 = value of t we want to estimate x for \n* hmax = maximium step size\n* method = uses euler by default, must type rk4 to use rk4 method\n\nIf you wanted to use the solveto function with conditions x0 = 1, t0 = 0, t1 = 1, hmax = 0.1 ",
      "metadata": {}
    },
    {
      "cell_type": "code",
      "source": "print(solveto(f, 1, 0, 1, 0.1))  # using Euler method\nprint(solveto(f, 1, 0, 1, 0.1, rk4)) # using rk4 method",
      "metadata": {},
      "execution_count": null,
      "outputs": []
    },
    {
      "cell_type": "markdown",
      "source": "Odesolve function.\n\nThe odesolve function has 5 variables f, x0, tvals, hmax, method.\n\n* x0 = initial x (must be written as an element of a list)\n* tvals = list of (evenly spaced) t values \n\nIf you wanted x0 = 1, tvals = [0.   0.25 0.5  0.75 1.  ], hmax = 0.001\n",
      "metadata": {}
    },
    {
      "cell_type": "code",
      "source": "# Initial conditions\nx0 = [1]\ntvals = np.linspace(0, 1, 5)\nhmax = 0.001\n\nprint(odesolve(f, x0, tvals, hmax))  # using Euler method\nprint(odesolve(f, x0, tvals, hmax, rk4))  # using rk4 method",
      "metadata": {},
      "execution_count": null,
      "outputs": []
    }
  ]
}